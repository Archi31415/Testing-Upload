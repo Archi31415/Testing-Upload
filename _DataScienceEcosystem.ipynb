{
 "cells": [
  {
   "cell_type": "markdown",
   "id": "1bd71c16-4f51-4c39-9742-eefa4bb42e34",
   "metadata": {},
   "source": [
    "<h1>Data Science Tools and Ecosystem<h1>"
   ]
  },
  {
   "cell_type": "markdown",
   "id": "9b28e4e0-605c-4ebe-bb78-d30953aebfa5",
   "metadata": {},
   "source": [
    "In this notebook, Data Science Tools and Ecosystem are summarized."
   ]
  },
  {
   "cell_type": "markdown",
   "id": "87f021ef-d212-4854-9d05-c8a5be948413",
   "metadata": {},
   "source": [
    "Some of the popular languages that Data Scientists use are:"
   ]
  },
  {
   "cell_type": "markdown",
   "id": "78faa69f-5131-40d3-867e-2b1667c07ae8",
   "metadata": {
    "tags": []
   },
   "source": [
    "1. Numpy\n",
    "2. Pytorch\n",
    "3. Matplotlib"
   ]
  },
  {
   "cell_type": "markdown",
   "id": "c8ea548e-941f-46dd-ac1a-47c0ab38405f",
   "metadata": {},
   "source": [
    "Some of the popular languages that Data Scientists use are:\n"
   ]
  },
  {
   "cell_type": "markdown",
   "id": "41a99ff9-f436-422e-826e-c3111da3c8bf",
   "metadata": {},
   "source": [
    "1. Python\n",
    "2. R\n",
    "3. SQL"
   ]
  },
  {
   "cell_type": "markdown",
   "id": "4c5db034-86d5-457d-9f8b-a2dd7e58f9a6",
   "metadata": {},
   "source": [
    "| Data Science Tools |\n",
    "|:------------------:|\n",
    "|        GIT         |\n",
    "|      BootStrap     |\n",
    "|      Notepad++     |"
   ]
  },
  {
   "cell_type": "markdown",
   "id": "8c35ae90-5a8b-44f8-8289-b5b089e59094",
   "metadata": {},
   "source": [
    "<H3>Below are a few examples of evaluating arithmetic expressions in Python<h3>"
   ]
  },
  {
   "cell_type": "markdown",
   "id": "bea63748-fac9-4eee-bf0c-bfe964d043ca",
   "metadata": {},
   "source": [
    "This a simple arithmetic expression to mutiply then add integers"
   ]
  },
  {
   "cell_type": "code",
   "execution_count": 6,
   "id": "9a9fa55c-c010-4a07-956f-1d8cb3cce1fd",
   "metadata": {
    "tags": []
   },
   "outputs": [
    {
     "data": {
      "text/plain": [
       "17"
      ]
     },
     "execution_count": 6,
     "metadata": {},
     "output_type": "execute_result"
    }
   ],
   "source": [
    "(3*4)+5"
   ]
  },
  {
   "cell_type": "markdown",
   "id": "b91ead94-c87c-4445-9880-195bc44ef4be",
   "metadata": {},
   "source": [
    " This will convert 200 minutes to hours by diving by 60"
   ]
  },
  {
   "cell_type": "code",
   "execution_count": 7,
   "id": "1fc6ce07-5258-4539-8f62-fb1d0a49cf42",
   "metadata": {
    "tags": []
   },
   "outputs": [
    {
     "data": {
      "text/plain": [
       "3.3333333333333335"
      ]
     },
     "execution_count": 7,
     "metadata": {},
     "output_type": "execute_result"
    }
   ],
   "source": [
    "200/60"
   ]
  },
  {
   "cell_type": "markdown",
   "id": "8d48f116-08d2-455b-9843-e7ddb3e3341d",
   "metadata": {},
   "source": [
    "**Objectives:**"
   ]
  },
  {
   "cell_type": "markdown",
   "id": "ca77c2e5-15be-42df-87bd-d6c57ef59c44",
   "metadata": {},
   "source": [
    "- list data science languages\n",
    "- list data science tools\n",
    "- Exectute basic arithmatic expressions"
   ]
  },
  {
   "cell_type": "markdown",
   "id": "6b24e78b-3695-4c9f-ae63-d0dfb13c9ac3",
   "metadata": {},
   "source": [
    "<h2>Author<H2>"
   ]
  },
  {
   "cell_type": "markdown",
   "id": "6683eaa4-df1e-4ed1-9370-fa020d650e01",
   "metadata": {},
   "source": [
    "Joey Minarsich"
   ]
  },
  {
   "cell_type": "code",
   "execution_count": null,
   "id": "776335e6-bb32-47e9-bc2d-e55d46d765f6",
   "metadata": {},
   "outputs": [],
   "source": []
  }
 ],
 "metadata": {
  "kernelspec": {
   "display_name": "Python",
   "language": "python",
   "name": "conda-env-python-py"
  },
  "language_info": {
   "codemirror_mode": {
    "name": "ipython",
    "version": 3
   },
   "file_extension": ".py",
   "mimetype": "text/x-python",
   "name": "python",
   "nbconvert_exporter": "python",
   "pygments_lexer": "ipython3",
   "version": "3.7.12"
  }
 },
 "nbformat": 4,
 "nbformat_minor": 5
}
